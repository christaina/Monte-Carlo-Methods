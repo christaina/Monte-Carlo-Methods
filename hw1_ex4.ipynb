{
 "cells": [
  {
   "cell_type": "markdown",
   "metadata": {},
   "source": [
    "## Monte Carlo Methods\n",
    "\n",
    "Homework 1, Exercise 4"
   ]
  },
  {
   "cell_type": "code",
   "execution_count": 226,
   "metadata": {
    "collapsed": false
   },
   "outputs": [],
   "source": [
    "import numpy as np\n",
    "%matplotlib inline\n",
    "import matplotlib.pyplot as plt\n",
    "import seaborn as sns"
   ]
  },
  {
   "cell_type": "code",
   "execution_count": 221,
   "metadata": {
    "collapsed": false
   },
   "outputs": [],
   "source": [
    "def my_pdf(x):\n",
    "    # distribution function\n",
    "    return 6.*x*(1.-x)"
   ]
  },
  {
   "cell_type": "code",
   "execution_count": 222,
   "metadata": {
    "collapsed": true
   },
   "outputs": [],
   "source": [
    "def draw_random(pdf, pdfmax = 1, max_iterations = 10000):\n",
    "    # draw random samples given function\n",
    "    for i in range(max_iterations):\n",
    "\n",
    "        rand_x = np.random.random() #(b - a) * random_sample() + a\n",
    "\n",
    "        rand_y = pdfmax * np.random.random(1) \n",
    "        calc_y = pdf(rand_x)\n",
    "\n",
    "        if(rand_y <= calc_y ):\n",
    "            return rand_x\n",
    "\n",
    "    raise Exception(\"Could not find a matching random number within pdf in \" + max_iterations + \" iterations.\")"
   ]
  },
  {
   "cell_type": "code",
   "execution_count": 223,
   "metadata": {
    "collapsed": false
   },
   "outputs": [],
   "source": [
    "def draw_n_random(N):\n",
    "    samples = [draw_random(my_pdf) for x in range(N)]\n",
    "    return samples"
   ]
  },
  {
   "cell_type": "code",
   "execution_count": 211,
   "metadata": {
    "collapsed": true
   },
   "outputs": [],
   "source": [
    "nsamp = 3000\n",
    "func_appx = [my_pdf(x)*nsamp for x in rang]"
   ]
  },
  {
   "cell_type": "code",
   "execution_count": 224,
   "metadata": {
    "collapsed": true
   },
   "outputs": [],
   "source": [
    "samples = draw_n_random(nsamp)\n",
    "y,binEdges = np.histogram(samples,bins=50)\n",
    "bincenters = 0.5*(binEdges[1:]+binEdges[:-1])\n",
    "width      = 0.015"
   ]
  },
  {
   "cell_type": "code",
   "execution_count": 225,
   "metadata": {
    "collapsed": false
   },
   "outputs": [],
   "source": [
    "bin_size = binEdges[1]-binEdges[0]"
   ]
  },
  {
   "cell_type": "code",
   "execution_count": 215,
   "metadata": {
    "collapsed": true
   },
   "outputs": [],
   "source": [
    "pjs = [bin_size * my_pdf(x) for x in bincenters]\n",
    "bars = [ np.sqrt(nsamp) * x * (1-x) for x in pjs]"
   ]
  },
  {
   "cell_type": "code",
   "execution_count": 217,
   "metadata": {
    "collapsed": false
   },
   "outputs": [],
   "source": [
    "appxs = [ nsamp * bin_size * my_pdf(x) for x in bincenters ]"
   ]
  },
  {
   "cell_type": "code",
   "execution_count": 218,
   "metadata": {
    "collapsed": false,
    "scrolled": false
   },
   "outputs": [
    {
     "data": {
      "image/png": "[encoded data removed]",
      "text/plain": [
       "<matplotlib.figure.Figure at 0x7f4e3b561a10>"
      ]
     },
     "metadata": {},
     "output_type": "display_data"
    }
   ],
   "source": [
    "plt.bar(bincenters, y, width=width, color='pink', yerr=bars)\n",
    "plt.plot(bincenters,appxs,c='red')\n",
    "plt.title(\"Plot of Samples vs. Function Appx\")\n",
    "plt.show()"
   ]
  }
 ],
 "metadata": {
  "kernelspec": {
   "display_name": "Python 2",
   "language": "python",
   "name": "python2"
  },
  "language_info": {
   "codemirror_mode": {
    "name": "ipython",
    "version": 2
   },
   "file_extension": ".py",
   "mimetype": "text/x-python",
   "name": "python",
   "nbconvert_exporter": "python",
   "pygments_lexer": "ipython2",
   "version": "2.7.11"
  }
 },
 "nbformat": 4,
 "nbformat_minor": 0
}
